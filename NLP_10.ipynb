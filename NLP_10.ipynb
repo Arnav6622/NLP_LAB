{
  "nbformat": 4,
  "nbformat_minor": 0,
  "metadata": {
    "colab": {
      "provenance": []
    },
    "kernelspec": {
      "name": "python3",
      "display_name": "Python 3"
    },
    "language_info": {
      "name": "python"
    }
  },
  "cells": [
    {
      "cell_type": "code",
      "source": [
        "import nltk\n",
        "from nltk.corpus import stopwords\n",
        "from nltk.tokenize import word_tokenize\n",
        "from nltk.stem import PorterStemmer, WordNetLemmatizer\n",
        "from nltk import ne_chunk"
      ],
      "metadata": {
        "id": "B89qbjPfKb0d"
      },
      "execution_count": 8,
      "outputs": []
    },
    {
      "cell_type": "code",
      "source": [
        "nltk.download('punkt')\n",
        "nltk.download('wordnet')\n",
        "nltk.download('stopwords')\n",
        "nltk.download('averaged_perceptron_tagger')\n",
        "nltk.download('maxent_ne_chunker')\n",
        "nltk.download('words')"
      ],
      "metadata": {
        "colab": {
          "base_uri": "https://localhost:8080/"
        },
        "id": "13CquX0BKcO4",
        "outputId": "02412b46-e1c3-401a-d5ef-121031702575"
      },
      "execution_count": 9,
      "outputs": [
        {
          "output_type": "stream",
          "name": "stderr",
          "text": [
            "[nltk_data] Downloading package punkt to /root/nltk_data...\n",
            "[nltk_data]   Unzipping tokenizers/punkt.zip.\n",
            "[nltk_data] Downloading package wordnet to /root/nltk_data...\n",
            "[nltk_data] Downloading package stopwords to /root/nltk_data...\n",
            "[nltk_data]   Unzipping corpora/stopwords.zip.\n",
            "[nltk_data] Downloading package averaged_perceptron_tagger to\n",
            "[nltk_data]     /root/nltk_data...\n",
            "[nltk_data]   Unzipping taggers/averaged_perceptron_tagger.zip.\n",
            "[nltk_data] Downloading package maxent_ne_chunker to\n",
            "[nltk_data]     /root/nltk_data...\n",
            "[nltk_data]   Unzipping chunkers/maxent_ne_chunker.zip.\n",
            "[nltk_data] Downloading package words to /root/nltk_data...\n",
            "[nltk_data]   Unzipping corpora/words.zip.\n"
          ]
        },
        {
          "output_type": "execute_result",
          "data": {
            "text/plain": [
              "True"
            ]
          },
          "metadata": {},
          "execution_count": 9
        }
      ]
    },
    {
      "cell_type": "code",
      "source": [
        "text = \"\"\"\n",
        "Once upon a time, in a faraway kingdom, there lived a beautiful princess named Cinderella.\n",
        "She had two stepsisters who were jealous of her beauty. Despite the hardships, Cinderella\n",
        "remained kind-hearted and hopeful. One day, a grand ball was announced in the palace, and\n",
        "Cinderella dreamt of attending it. With the help of her fairy godmother, she got her wish\n",
        "and went to the ball. There, she met the charming prince, and they danced the night away.\n",
        "But as the clock struck midnight, Cinderella had to flee, leaving behind her glass slipper.\n",
        "The prince searched the kingdom to find the owner of the glass slipper. Eventually, he found\n",
        "Cinderella, and they lived happily ever after.\n",
        "\"\"\""
      ],
      "metadata": {
        "id": "wbaZJCOcK8pu"
      },
      "execution_count": 10,
      "outputs": []
    },
    {
      "cell_type": "code",
      "source": [
        "tokens = word_tokenize(text)"
      ],
      "metadata": {
        "id": "BELFj-N0K-9c"
      },
      "execution_count": 11,
      "outputs": []
    },
    {
      "cell_type": "code",
      "source": [
        "\n",
        "stemmer = PorterStemmer()\n",
        "stemmed_tokens = [stemmer.stem(token) for token in tokens]"
      ],
      "metadata": {
        "id": "Q5EEH-MXLA7F"
      },
      "execution_count": 12,
      "outputs": []
    },
    {
      "cell_type": "code",
      "source": [
        "lemmatizer = WordNetLemmatizer()\n",
        "lemmatized_tokens = [lemmatizer.lemmatize(token) for token in tokens]"
      ],
      "metadata": {
        "id": "desrXuszLCUI"
      },
      "execution_count": 13,
      "outputs": []
    },
    {
      "cell_type": "code",
      "source": [
        "stop_words = set(stopwords.words('english'))\n",
        "filtered_tokens = [token for token in tokens if token.lower() not in stop_words]"
      ],
      "metadata": {
        "id": "_SyIJTFwLFxr"
      },
      "execution_count": 14,
      "outputs": []
    },
    {
      "cell_type": "code",
      "source": [
        "pos_tags = nltk.pos_tag(tokens)"
      ],
      "metadata": {
        "id": "9ZzAZSB6LH_0"
      },
      "execution_count": 15,
      "outputs": []
    },
    {
      "cell_type": "code",
      "source": [
        "ner_tags = ne_chunk(pos_tags)"
      ],
      "metadata": {
        "id": "asWiJHzJLKCs"
      },
      "execution_count": 16,
      "outputs": []
    },
    {
      "cell_type": "code",
      "source": [
        "print(\"Tokens:\", tokens)"
      ],
      "metadata": {
        "colab": {
          "base_uri": "https://localhost:8080/"
        },
        "id": "H6LjeCVfLLhH",
        "outputId": "d73477e1-fe78-402c-f52c-ee9c28128a19"
      },
      "execution_count": 17,
      "outputs": [
        {
          "output_type": "stream",
          "name": "stdout",
          "text": [
            "Tokens: ['Once', 'upon', 'a', 'time', ',', 'in', 'a', 'faraway', 'kingdom', ',', 'there', 'lived', 'a', 'beautiful', 'princess', 'named', 'Cinderella', '.', 'She', 'had', 'two', 'stepsisters', 'who', 'were', 'jealous', 'of', 'her', 'beauty', '.', 'Despite', 'the', 'hardships', ',', 'Cinderella', 'remained', 'kind-hearted', 'and', 'hopeful', '.', 'One', 'day', ',', 'a', 'grand', 'ball', 'was', 'announced', 'in', 'the', 'palace', ',', 'and', 'Cinderella', 'dreamt', 'of', 'attending', 'it', '.', 'With', 'the', 'help', 'of', 'her', 'fairy', 'godmother', ',', 'she', 'got', 'her', 'wish', 'and', 'went', 'to', 'the', 'ball', '.', 'There', ',', 'she', 'met', 'the', 'charming', 'prince', ',', 'and', 'they', 'danced', 'the', 'night', 'away', '.', 'But', 'as', 'the', 'clock', 'struck', 'midnight', ',', 'Cinderella', 'had', 'to', 'flee', ',', 'leaving', 'behind', 'her', 'glass', 'slipper', '.', 'The', 'prince', 'searched', 'the', 'kingdom', 'to', 'find', 'the', 'owner', 'of', 'the', 'glass', 'slipper', '.', 'Eventually', ',', 'he', 'found', 'Cinderella', ',', 'and', 'they', 'lived', 'happily', 'ever', 'after', '.']\n"
          ]
        }
      ]
    },
    {
      "cell_type": "code",
      "source": [
        "\n",
        "print(\"Stemmed Tokens:\", stemmed_tokens)"
      ],
      "metadata": {
        "colab": {
          "base_uri": "https://localhost:8080/"
        },
        "id": "RcCi4ZQmLM2r",
        "outputId": "a62f7318-301c-4fd2-f177-10b45fc61d53"
      },
      "execution_count": 18,
      "outputs": [
        {
          "output_type": "stream",
          "name": "stdout",
          "text": [
            "Stemmed Tokens: ['onc', 'upon', 'a', 'time', ',', 'in', 'a', 'faraway', 'kingdom', ',', 'there', 'live', 'a', 'beauti', 'princess', 'name', 'cinderella', '.', 'she', 'had', 'two', 'stepsist', 'who', 'were', 'jealou', 'of', 'her', 'beauti', '.', 'despit', 'the', 'hardship', ',', 'cinderella', 'remain', 'kind-heart', 'and', 'hope', '.', 'one', 'day', ',', 'a', 'grand', 'ball', 'wa', 'announc', 'in', 'the', 'palac', ',', 'and', 'cinderella', 'dreamt', 'of', 'attend', 'it', '.', 'with', 'the', 'help', 'of', 'her', 'fairi', 'godmoth', ',', 'she', 'got', 'her', 'wish', 'and', 'went', 'to', 'the', 'ball', '.', 'there', ',', 'she', 'met', 'the', 'charm', 'princ', ',', 'and', 'they', 'danc', 'the', 'night', 'away', '.', 'but', 'as', 'the', 'clock', 'struck', 'midnight', ',', 'cinderella', 'had', 'to', 'flee', ',', 'leav', 'behind', 'her', 'glass', 'slipper', '.', 'the', 'princ', 'search', 'the', 'kingdom', 'to', 'find', 'the', 'owner', 'of', 'the', 'glass', 'slipper', '.', 'eventu', ',', 'he', 'found', 'cinderella', ',', 'and', 'they', 'live', 'happili', 'ever', 'after', '.']\n"
          ]
        }
      ]
    },
    {
      "cell_type": "code",
      "source": [
        "print(\"Lemmatized Tokens:\", lemmatized_tokens)"
      ],
      "metadata": {
        "colab": {
          "base_uri": "https://localhost:8080/"
        },
        "id": "lzGg4naPLO05",
        "outputId": "e8652423-3dc3-4890-d38c-0332d9a8917b"
      },
      "execution_count": 19,
      "outputs": [
        {
          "output_type": "stream",
          "name": "stdout",
          "text": [
            "Lemmatized Tokens: ['Once', 'upon', 'a', 'time', ',', 'in', 'a', 'faraway', 'kingdom', ',', 'there', 'lived', 'a', 'beautiful', 'princess', 'named', 'Cinderella', '.', 'She', 'had', 'two', 'stepsister', 'who', 'were', 'jealous', 'of', 'her', 'beauty', '.', 'Despite', 'the', 'hardship', ',', 'Cinderella', 'remained', 'kind-hearted', 'and', 'hopeful', '.', 'One', 'day', ',', 'a', 'grand', 'ball', 'wa', 'announced', 'in', 'the', 'palace', ',', 'and', 'Cinderella', 'dreamt', 'of', 'attending', 'it', '.', 'With', 'the', 'help', 'of', 'her', 'fairy', 'godmother', ',', 'she', 'got', 'her', 'wish', 'and', 'went', 'to', 'the', 'ball', '.', 'There', ',', 'she', 'met', 'the', 'charming', 'prince', ',', 'and', 'they', 'danced', 'the', 'night', 'away', '.', 'But', 'a', 'the', 'clock', 'struck', 'midnight', ',', 'Cinderella', 'had', 'to', 'flee', ',', 'leaving', 'behind', 'her', 'glass', 'slipper', '.', 'The', 'prince', 'searched', 'the', 'kingdom', 'to', 'find', 'the', 'owner', 'of', 'the', 'glass', 'slipper', '.', 'Eventually', ',', 'he', 'found', 'Cinderella', ',', 'and', 'they', 'lived', 'happily', 'ever', 'after', '.']\n"
          ]
        }
      ]
    },
    {
      "cell_type": "code",
      "source": [
        "print(\"Filtered Tokens :\", filtered_tokens)"
      ],
      "metadata": {
        "colab": {
          "base_uri": "https://localhost:8080/"
        },
        "id": "Dfb_4tBOLQtX",
        "outputId": "604ac0ba-049a-4591-eaea-05daef74815c"
      },
      "execution_count": 20,
      "outputs": [
        {
          "output_type": "stream",
          "name": "stdout",
          "text": [
            "Filtered Tokens : ['upon', 'time', ',', 'faraway', 'kingdom', ',', 'lived', 'beautiful', 'princess', 'named', 'Cinderella', '.', 'two', 'stepsisters', 'jealous', 'beauty', '.', 'Despite', 'hardships', ',', 'Cinderella', 'remained', 'kind-hearted', 'hopeful', '.', 'One', 'day', ',', 'grand', 'ball', 'announced', 'palace', ',', 'Cinderella', 'dreamt', 'attending', '.', 'help', 'fairy', 'godmother', ',', 'got', 'wish', 'went', 'ball', '.', ',', 'met', 'charming', 'prince', ',', 'danced', 'night', 'away', '.', 'clock', 'struck', 'midnight', ',', 'Cinderella', 'flee', ',', 'leaving', 'behind', 'glass', 'slipper', '.', 'prince', 'searched', 'kingdom', 'find', 'owner', 'glass', 'slipper', '.', 'Eventually', ',', 'found', 'Cinderella', ',', 'lived', 'happily', 'ever', '.']\n"
          ]
        }
      ]
    },
    {
      "cell_type": "code",
      "source": [
        "print(\"Part-of-Speech Tags:\", pos_tags)"
      ],
      "metadata": {
        "colab": {
          "base_uri": "https://localhost:8080/"
        },
        "id": "tcuI-SzALSmX",
        "outputId": "1f30a2a6-72e7-45e1-98b9-47d6fd19fadb"
      },
      "execution_count": 21,
      "outputs": [
        {
          "output_type": "stream",
          "name": "stdout",
          "text": [
            "Part-of-Speech Tags: [('Once', 'RB'), ('upon', 'IN'), ('a', 'DT'), ('time', 'NN'), (',', ','), ('in', 'IN'), ('a', 'DT'), ('faraway', 'NN'), ('kingdom', 'NN'), (',', ','), ('there', 'EX'), ('lived', 'VBD'), ('a', 'DT'), ('beautiful', 'JJ'), ('princess', 'NN'), ('named', 'VBN'), ('Cinderella', 'NNP'), ('.', '.'), ('She', 'PRP'), ('had', 'VBD'), ('two', 'CD'), ('stepsisters', 'NNS'), ('who', 'WP'), ('were', 'VBD'), ('jealous', 'JJ'), ('of', 'IN'), ('her', 'PRP$'), ('beauty', 'NN'), ('.', '.'), ('Despite', 'IN'), ('the', 'DT'), ('hardships', 'NNS'), (',', ','), ('Cinderella', 'NNP'), ('remained', 'VBD'), ('kind-hearted', 'JJ'), ('and', 'CC'), ('hopeful', 'JJ'), ('.', '.'), ('One', 'CD'), ('day', 'NN'), (',', ','), ('a', 'DT'), ('grand', 'JJ'), ('ball', 'NN'), ('was', 'VBD'), ('announced', 'VBN'), ('in', 'IN'), ('the', 'DT'), ('palace', 'NN'), (',', ','), ('and', 'CC'), ('Cinderella', 'NNP'), ('dreamt', 'NN'), ('of', 'IN'), ('attending', 'VBG'), ('it', 'PRP'), ('.', '.'), ('With', 'IN'), ('the', 'DT'), ('help', 'NN'), ('of', 'IN'), ('her', 'PRP$'), ('fairy', 'NN'), ('godmother', 'NN'), (',', ','), ('she', 'PRP'), ('got', 'VBD'), ('her', 'PRP'), ('wish', 'NN'), ('and', 'CC'), ('went', 'VBD'), ('to', 'TO'), ('the', 'DT'), ('ball', 'NN'), ('.', '.'), ('There', 'EX'), (',', ','), ('she', 'PRP'), ('met', 'VBD'), ('the', 'DT'), ('charming', 'VBG'), ('prince', 'NN'), (',', ','), ('and', 'CC'), ('they', 'PRP'), ('danced', 'VBD'), ('the', 'DT'), ('night', 'NN'), ('away', 'RB'), ('.', '.'), ('But', 'CC'), ('as', 'IN'), ('the', 'DT'), ('clock', 'NN'), ('struck', 'VBD'), ('midnight', 'NN'), (',', ','), ('Cinderella', 'NNP'), ('had', 'VBD'), ('to', 'TO'), ('flee', 'VB'), (',', ','), ('leaving', 'VBG'), ('behind', 'IN'), ('her', 'PRP'), ('glass', 'NN'), ('slipper', 'NN'), ('.', '.'), ('The', 'DT'), ('prince', 'NN'), ('searched', 'VBD'), ('the', 'DT'), ('kingdom', 'NN'), ('to', 'TO'), ('find', 'VB'), ('the', 'DT'), ('owner', 'NN'), ('of', 'IN'), ('the', 'DT'), ('glass', 'NN'), ('slipper', 'NN'), ('.', '.'), ('Eventually', 'RB'), (',', ','), ('he', 'PRP'), ('found', 'VBD'), ('Cinderella', 'NNP'), (',', ','), ('and', 'CC'), ('they', 'PRP'), ('lived', 'VBD'), ('happily', 'RB'), ('ever', 'RB'), ('after', 'IN'), ('.', '.')]\n"
          ]
        }
      ]
    },
    {
      "cell_type": "code",
      "source": [
        "\n",
        "ner_tags = ne_chunk(pos_tags)\n",
        "print(\"Named Entities:\")\n",
        "for chunk in ner_tags:\n",
        "    if hasattr(chunk, 'label'):\n",
        "        print(chunk.label(), ' '.join(c[0] for c in chunk))"
      ],
      "metadata": {
        "id": "HBkb_UlPLUOO",
        "outputId": "a06316d7-0cc6-48b8-9d37-82c6bcdd4438",
        "colab": {
          "base_uri": "https://localhost:8080/"
        }
      },
      "execution_count": 22,
      "outputs": [
        {
          "output_type": "stream",
          "name": "stdout",
          "text": [
            "Named Entities:\n",
            "PERSON Cinderella\n",
            "PERSON Cinderella\n",
            "ORGANIZATION Cinderella\n",
            "PERSON Cinderella\n",
            "PERSON Cinderella\n"
          ]
        }
      ]
    },
    {
      "cell_type": "code",
      "source": [],
      "metadata": {
        "id": "IPc2ygZILWWi"
      },
      "execution_count": null,
      "outputs": []
    }
  ]
}