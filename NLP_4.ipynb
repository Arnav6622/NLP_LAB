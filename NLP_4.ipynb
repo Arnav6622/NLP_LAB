{
 "cells": [
  {
   "cell_type": "code",
   "execution_count": 1,
   "metadata": {},
   "outputs": [
    {
     "name": "stderr",
     "output_type": "stream",
     "text": [
      "[nltk_data] Downloading package brown to\n",
      "[nltk_data]     C:\\Users\\Archit\\AppData\\Roaming\\nltk_data...\n",
      "[nltk_data]   Package brown is already up-to-date!\n"
     ]
    }
   ],
   "source": [
    "import nltk\n",
    "nltk.download('brown')\n",
    "brown = nltk.corpus.brown"
   ]
  },
  {
   "cell_type": "code",
   "execution_count": 2,
   "metadata": {},
   "outputs": [
    {
     "name": "stdout",
     "output_type": "stream",
     "text": [
      "['Daniel', 'personally', 'led', 'the', 'fight', 'for', 'the', 'measure', ',', 'which', 'he', 'had', 'watered', 'down', 'considerably', 'since', 'its', 'rejection', 'by', 'two', 'previous', 'Legislatures', ',', 'in', 'a', 'public', 'hearing', 'before', 'the', 'House', 'Committee', 'on', 'Revenue', 'and', 'Taxation', '.']\n"
     ]
    }
   ],
   "source": [
    "sentence = brown.sents(categories='news')[100]\n",
    "print(sentence)\n",
    "\n"
   ]
  },
  {
   "cell_type": "code",
   "execution_count": 3,
   "metadata": {},
   "outputs": [
    {
     "name": "stdout",
     "output_type": "stream",
     "text": [
      "[('Daniel', 'NNP'), ('personally', 'RB'), ('led', 'VBD'), ('the', 'DT'), ('fight', 'NN'), ('for', 'IN'), ('the', 'DT'), ('measure', 'NN'), (',', ','), ('which', 'WDT'), ('he', 'PRP'), ('had', 'VBD'), ('watered', 'VBN'), ('down', 'RP'), ('considerably', 'RB'), ('since', 'IN'), ('its', 'PRP$'), ('rejection', 'NN'), ('by', 'IN'), ('two', 'CD'), ('previous', 'JJ'), ('Legislatures', 'NNS'), (',', ','), ('in', 'IN'), ('a', 'DT'), ('public', 'JJ'), ('hearing', 'NN'), ('before', 'IN'), ('the', 'DT'), ('House', 'NNP'), ('Committee', 'NNP'), ('on', 'IN'), ('Revenue', 'NNP'), ('and', 'CC'), ('Taxation', 'NNP'), ('.', '.')]\n"
     ]
    }
   ],
   "source": [
    "tagged_sentence = nltk.pos_tag(sentence)\n",
    "print(tagged_sentence)"
   ]
  },
  {
   "cell_type": "code",
   "execution_count": 5,
   "metadata": {},
   "outputs": [
    {
     "name": "stdout",
     "output_type": "stream",
     "text": [
      "(S\n",
      "  Daniel/NNP\n",
      "  personally/RB\n",
      "  led/VBD\n",
      "  (NP the/DT fight/NN)\n",
      "  for/IN\n",
      "  (NP the/DT measure/NN)\n",
      "  ,/,\n",
      "  which/WDT\n",
      "  he/PRP\n",
      "  had/VBD\n",
      "  watered/VBN\n",
      "  down/RP\n",
      "  considerably/RB\n",
      "  since/IN\n",
      "  its/PRP$\n",
      "  (NP rejection/NN)\n",
      "  by/IN\n",
      "  two/CD\n",
      "  previous/JJ\n",
      "  Legislatures/NNS\n",
      "  ,/,\n",
      "  in/IN\n",
      "  (NP a/DT public/JJ hearing/NN)\n",
      "  before/IN\n",
      "  the/DT\n",
      "  House/NNP\n",
      "  Committee/NNP\n",
      "  on/IN\n",
      "  Revenue/NNP\n",
      "  and/CC\n",
      "  Taxation/NNP\n",
      "  ./.)\n"
     ]
    }
   ],
   "source": [
    "\n",
    "grammar = \"NP: {<DT>?<JJ>*<NN>}\"\n",
    "\n",
    "\n",
    "parser = nltk.RegexpParser(grammar)\n",
    "\n",
    "\n",
    "chunked_sentence = parser.parse(tagged_sentence)\n",
    "print(chunked_sentence)"
   ]
  },
  {
   "cell_type": "code",
   "execution_count": null,
   "metadata": {},
   "outputs": [],
   "source": [
    "chunked_sentence.draw()"
   ]
  },
  {
   "cell_type": "code",
   "execution_count": null,
   "metadata": {},
   "outputs": [],
   "source": []
  }
 ],
 "metadata": {
  "kernelspec": {
   "display_name": "Python 3",
   "language": "python",
   "name": "python3"
  },
  "language_info": {
   "codemirror_mode": {
    "name": "ipython",
    "version": 3
   },
   "file_extension": ".py",
   "mimetype": "text/x-python",
   "name": "python",
   "nbconvert_exporter": "python",
   "pygments_lexer": "ipython3",
   "version": "3.12.1"
  }
 },
 "nbformat": 4,
 "nbformat_minor": 2
}
