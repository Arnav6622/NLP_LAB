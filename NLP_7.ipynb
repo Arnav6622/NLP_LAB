{
  "nbformat": 4,
  "nbformat_minor": 0,
  "metadata": {
    "colab": {
      "provenance": []
    },
    "kernelspec": {
      "name": "python3",
      "display_name": "Python 3"
    },
    "language_info": {
      "name": "python"
    }
  },
  "cells": [
    {
      "cell_type": "code",
      "execution_count": 1,
      "metadata": {
        "colab": {
          "base_uri": "https://localhost:8080/"
        },
        "id": "mNccIFbIG88o",
        "outputId": "6ad62f88-63ef-4311-8aa4-9f613f5e334c"
      },
      "outputs": [
        {
          "output_type": "stream",
          "name": "stdout",
          "text": [
            "Requirement already satisfied: nltk in /usr/local/lib/python3.10/dist-packages (3.8.1)\n",
            "Requirement already satisfied: click in /usr/local/lib/python3.10/dist-packages (from nltk) (8.1.7)\n",
            "Requirement already satisfied: joblib in /usr/local/lib/python3.10/dist-packages (from nltk) (1.4.0)\n",
            "Requirement already satisfied: regex>=2021.8.3 in /usr/local/lib/python3.10/dist-packages (from nltk) (2023.12.25)\n",
            "Requirement already satisfied: tqdm in /usr/local/lib/python3.10/dist-packages (from nltk) (4.66.2)\n"
          ]
        }
      ],
      "source": [
        "!pip install nltk\n",
        "import nltk"
      ]
    },
    {
      "cell_type": "code",
      "source": [
        "from nltk.tokenize import word_tokenize\n",
        "from nltk.tokenize import sent_tokenize\n",
        "from nltk.corpus import stopwords\n",
        "from sklearn.feature_extraction.text import CountVectorizer\n",
        "from sklearn.metrics.pairwise import cosine_similarity"
      ],
      "metadata": {
        "id": "Bj-9PwQmG9wa"
      },
      "execution_count": 2,
      "outputs": []
    },
    {
      "cell_type": "code",
      "source": [
        "nltk.download('punkt')\n",
        "nltk.download('stopwords')"
      ],
      "metadata": {
        "colab": {
          "base_uri": "https://localhost:8080/"
        },
        "id": "uCFIhhLxHGUr",
        "outputId": "68de1158-83d1-46a5-9089-57088a1c643d"
      },
      "execution_count": 3,
      "outputs": [
        {
          "output_type": "stream",
          "name": "stderr",
          "text": [
            "[nltk_data] Downloading package punkt to /root/nltk_data...\n",
            "[nltk_data]   Unzipping tokenizers/punkt.zip.\n",
            "[nltk_data] Downloading package stopwords to /root/nltk_data...\n",
            "[nltk_data]   Unzipping corpora/stopwords.zip.\n"
          ]
        },
        {
          "output_type": "execute_result",
          "data": {
            "text/plain": [
              "True"
            ]
          },
          "metadata": {},
          "execution_count": 3
        }
      ]
    },
    {
      "cell_type": "code",
      "source": [
        "def preprocess(text):\n",
        "    tokens = word_tokenize(text.lower())\n",
        "    stop_words = set(stopwords.words('english'))\n",
        "    tokens = [token for token in tokens if token not in stop_words]\n",
        "\n",
        "    return tokens"
      ],
      "metadata": {
        "id": "b0E_QLsUHJXg"
      },
      "execution_count": 4,
      "outputs": []
    },
    {
      "cell_type": "code",
      "source": [
        "def vectorize(tokens):\n",
        "    vectorizer = CountVectorizer()\n",
        "    token_matrix = vectorizer.fit_transform([\" \".join(tokens), text])\n",
        "\n",
        "    return token_matrix"
      ],
      "metadata": {
        "id": "qIT33Ox6HMPD"
      },
      "execution_count": 5,
      "outputs": []
    },
    {
      "cell_type": "code",
      "source": [
        "def summarize(text, top_n=2):\n",
        "\n",
        "    tokens = preprocess(text)\n",
        "\n",
        "    token_matrix = vectorize(tokens)\n",
        "\n",
        "    similarity = cosine_similarity(token_matrix)[0] # Calculate similarity between the tokenized text and each sentence\n",
        "    print(\"Vector Similarity Scores:\")\n",
        "    for i, score in enumerate(similarity):\n",
        "        print(f\"Sentence {i+1}: {score}\")\n",
        "\n",
        "    top_indices = similarity.argsort()[-top_n:][::-1] # Get indices of most similar sentences\n",
        "    sentences = sent_tokenize(text)\n",
        "    summary = [sentences[i] for i in top_indices] # Extract most similar sentences\n",
        "\n",
        "    return ' '.join(summary)"
      ],
      "metadata": {
        "id": "8L_oBmx6HPXy"
      },
      "execution_count": 6,
      "outputs": []
    },
    {
      "cell_type": "code",
      "source": [
        "text = \"\"\"\n",
        "Artificial intelligence (AI), in its broadest sense, is intelligence exhibited by machines, particularly computer systems, as opposed to the natural intelligence of living beings. It is a field of research in computer science that develops and studies methods and software which enable machines to perceive their environment and uses learning and intelligence to take actions that maximize their chances of achieving defined goals.\"\"\""
      ],
      "metadata": {
        "id": "CKhEHTTyHVeb"
      },
      "execution_count": 7,
      "outputs": []
    },
    {
      "cell_type": "code",
      "source": [
        "summary = summarize(text)\n",
        "print(\"\\nSummary:\")\n",
        "print(summary)"
      ],
      "metadata": {
        "colab": {
          "base_uri": "https://localhost:8080/"
        },
        "id": "eYxogl-PHXpn",
        "outputId": "59e26449-5117-4d55-d5a6-d177212bbd16"
      },
      "execution_count": 8,
      "outputs": [
        {
          "output_type": "stream",
          "name": "stdout",
          "text": [
            "Vector Similarity Scores:\n",
            "Sentence 1: 0.9999999999999994\n",
            "Sentence 2: 0.7006490497453702\n",
            "\n",
            "Summary:\n",
            "\n",
            "Artificial intelligence (AI), in its broadest sense, is intelligence exhibited by machines, particularly computer systems, as opposed to the natural intelligence of living beings. It is a field of research in computer science that develops and studies methods and software which enable machines to perceive their environment and uses learning and intelligence to take actions that maximize their chances of achieving defined goals.\n"
          ]
        }
      ]
    },
    {
      "cell_type": "code",
      "source": [],
      "metadata": {
        "id": "CB_CiLEvHYEj"
      },
      "execution_count": null,
      "outputs": []
    }
  ]
}