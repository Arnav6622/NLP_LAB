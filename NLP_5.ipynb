{
  "cells": [
    {
      "cell_type": "code",
      "execution_count": 1,
      "metadata": {
        "id": "w7FyJiY8FEjs"
      },
      "outputs": [],
      "source": [
        "import nltk\n",
        "from nltk.tokenize import word_tokenize\n",
        "from nltk.probability import FreqDist\n",
        "import string"
      ]
    },
    {
      "cell_type": "code",
      "execution_count": 2,
      "metadata": {
        "colab": {
          "base_uri": "https://localhost:8080/"
        },
        "id": "hbPMa4l9Fkmo",
        "outputId": "04904d9e-c7ae-44e5-b174-3f1920cce2d9"
      },
      "outputs": [
        {
          "name": "stderr",
          "output_type": "stream",
          "text": [
            "[nltk_data] Downloading package punkt to\n",
            "[nltk_data]     C:\\Users\\Archit\\AppData\\Roaming\\nltk_data...\n",
            "[nltk_data]   Package punkt is already up-to-date!\n"
          ]
        },
        {
          "data": {
            "text/plain": [
              "True"
            ]
          },
          "execution_count": 2,
          "metadata": {},
          "output_type": "execute_result"
        }
      ],
      "source": [
        "nltk.download('punkt')"
      ]
    },
    {
      "cell_type": "code",
      "execution_count": 3,
      "metadata": {
        "colab": {
          "base_uri": "https://localhost:8080/"
        },
        "id": "4HnYKVUwFs_t",
        "outputId": "bf9975bb-e986-4fd6-9645-d6268a07a460"
      },
      "outputs": [],
      "source": [
        "text = input(\"Enter text:\")\n",
        "words = word_tokenize(text)\n",
        "words = [word.lower() for word in words if word.isalpha()]"
      ]
    },
    {
      "cell_type": "code",
      "execution_count": null,
      "metadata": {
        "colab": {
          "base_uri": "https://localhost:8080/"
        },
        "id": "LsBoGBoAFv8v",
        "outputId": "a3fec3df-89c8-4dd9-b292-7b44150e9db7"
      },
      "outputs": [
        {
          "name": "stdout",
          "output_type": "stream",
          "text": [
            "Word\t\tFrequency\n",
            "the             6\n",
            "a               5\n",
            "was             2\n",
            "in              2\n",
            "day             2\n",
            "sun             1\n",
            "shining         1\n"
          ]
        }
      ],
      "source": [
        "freq_dist = FreqDist(words)\n",
        "\n",
        "print(\"Word\\t\\tFrequency\")\n",
        "for word, frequency in freq_dist.most_common(7):\n",
        "    print(f\"{word:15s} {frequency}\")"
      ]
    },
    {
      "cell_type": "code",
      "execution_count": null,
      "metadata": {
        "id": "dOvcCxJyGMX2"
      },
      "outputs": [],
      "source": []
    }
  ],
  "metadata": {
    "colab": {
      "provenance": []
    },
    "kernelspec": {
      "display_name": "Python 3",
      "name": "python3"
    },
    "language_info": {
      "codemirror_mode": {
        "name": "ipython",
        "version": 3
      },
      "file_extension": ".py",
      "mimetype": "text/x-python",
      "name": "python",
      "nbconvert_exporter": "python",
      "pygments_lexer": "ipython3",
      "version": "3.12.1"
    }
  },
  "nbformat": 4,
  "nbformat_minor": 0
}
